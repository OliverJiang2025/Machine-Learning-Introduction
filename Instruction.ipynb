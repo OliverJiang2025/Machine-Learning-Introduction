{
 "cells": [
  {
   "cell_type": "markdown",
   "metadata": {},
   "source": [
    "# Introduction and purpose of this document\n",
    "\n",
    "Since this is my first time managing a repo ALONE, I believe it is important to keep an instruction document to record how to do some basic operations via command line, how to write markdown in Jupyter Notebook as in this document, and most importantly, how to work like a professional ENGINEER."
   ]
  },
  {
   "cell_type": "markdown",
   "metadata": {},
   "source": [
    "This document contains the following sections:\n",
    "1. How to work with Git in VS Code\n",
    "2. Libraries required for Machine Learning\n",
    "3. How to do version control"
   ]
  },
  {
   "cell_type": "markdown",
   "metadata": {},
   "source": [
    "How to work with Git\n",
    "========\n",
    "To clone a repo from Github, click the tree-like button (third from up to bottom) at the left hand side of VS Code, click \"clone repository\" and paste the URL copied from Github. Creating a new directory in the laptop finishes the cloning.\n",
    "Before you create a new file (README.md), we should remember to run the following commands to make sure VS Code knows who we are.\n",
    "\n",
    "`git config --global user.email \"hi@example.com\"`  \n",
    "\n",
    "`git config --global user.nbame \"this is my name\"`\n",
    "\n",
    "\n",
    "\n",
    "\n",
    "\n",
    "\n",
    "\n"
   ]
  },
  {
   "cell_type": "markdown",
   "metadata": {},
   "source": [
    "After this, we should know how to commit changes and push it to the remote repo. Let's say a new file is created and you want it to be \"uploaded\" to the repo. The following steps should be done:\n",
    "1. Save it.\n",
    "2. Stage the change by `git add .`\n",
    "    1. This command stages all files at the same time\n",
    "    2. If only one file is to be staged, `git add file1.py`\n",
    "3. Commit by `git commit -m 'some description'` \n",
    "4. Push it by `git push`\n"
   ]
  },
  {
   "cell_type": "markdown",
   "metadata": {},
   "source": [
    "Libraries required for Machine Learning\n",
    "=========\n",
    "This section introduces libraries that are developed for the purpose of operating Machine Learning, which includes:\n",
    "1. CUDA\n",
    "2. PyTorch\n",
    "3. TensorFlow\n",
    "4. Keras\n",
    "5. Sklearn\n",
    "\n",
    "### CUDA\n",
    "\n",
    "### PyTorch\n",
    "\n",
    "### TensorFlow\n",
    "\n",
    "### Keras\n",
    "\n",
    "### Sklearn"
   ]
  },
  {
   "cell_type": "markdown",
   "metadata": {},
   "source": [
    "How to do version control\n",
    "=======\n",
    "This is an important topic since there are too many libraries required and sometimes they are not compatible to each other. This section operates with Anaconda Power Shell.\n",
    "\n",
    "To check current enviornments created by Anaconda, type `conda env list` in Anaconda PowerShell.\n",
    "\n",
    "Note that the default enviornment is `base`, sometimes we need to create new envs. Use `conda create --name myenv python=3.9`, in which `myenv` is the name for the new env and version of python is 3.9.\n",
    "\n",
    "To switch to `myenv`, do `conda activate myenv`.\n",
    "\n",
    "Once there is a set enviornment, we can do `conda env export > environment.yml` to save the enviornment in a yml file.\n",
    "\n",
    "To use it, do `conda env create -f environment.yml` in another device.\n",
    "\n"
   ]
  },
  {
   "cell_type": "markdown",
   "metadata": {},
   "source": []
  },
  {
   "cell_type": "markdown",
   "metadata": {},
   "source": []
  }
 ],
 "metadata": {
  "kernelspec": {
   "display_name": "base",
   "language": "python",
   "name": "python3"
  },
  "language_info": {
   "codemirror_mode": {
    "name": "ipython",
    "version": 3
   },
   "file_extension": ".py",
   "mimetype": "text/x-python",
   "name": "python",
   "nbconvert_exporter": "python",
   "pygments_lexer": "ipython3",
   "version": "3.12.7"
  }
 },
 "nbformat": 4,
 "nbformat_minor": 2
}
