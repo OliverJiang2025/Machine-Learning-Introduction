{
 "cells": [
  {
   "cell_type": "markdown",
   "metadata": {},
   "source": [
    "Introduction and purpose of this document\n",
    "============\n",
    "Since this is my first time managing a repo ALONE, I believe it is important to keep an instruction document to record how to do some basic operations via command line, how to write markdown in Jupyter Notebook as in this document, and most importantly, how to work like a professional ENGINEER."
   ]
  },
  {
   "cell_type": "markdown",
   "metadata": {},
   "source": [
    "This document contains the following sections:\n",
    "1. How to work with Git in VS Code"
   ]
  },
  {
   "cell_type": "markdown",
   "metadata": {},
   "source": [
    "How to work with Git\n",
    "========\n",
    "To clone a repo from Github, click the tree-like button (third from up to bottom) at the left hand side of VS Code, click \"clone repository\" and paste the URL copied from Github. Creating a new directory in the laptop finishes the cloning.\n",
    "Before you create a new file (README.md), we should remember to run the following commands to make sure VS Code knows who we are.\n",
    "\n",
    "`git config --global user.email \"hi@example.com\"`  \n",
    "\n",
    "`git config --global user.nbame \"this is my name\"`\n",
    "\n",
    "\n",
    "\n",
    "\n",
    "\n",
    "\n",
    "\n"
   ]
  },
  {
   "cell_type": "markdown",
   "metadata": {},
   "source": [
    "After this, we should know how to commit changes and push it to the remote repo. Let's say a new file is created and you want it to be \"uploaded\" to the repo. Type `git commit -m 'some description'` first."
   ]
  }
 ],
 "metadata": {
  "kernelspec": {
   "display_name": "base",
   "language": "python",
   "name": "python3"
  },
  "language_info": {
   "codemirror_mode": {
    "name": "ipython",
    "version": 3
   },
   "file_extension": ".py",
   "mimetype": "text/x-python",
   "name": "python",
   "nbconvert_exporter": "python",
   "pygments_lexer": "ipython3",
   "version": "3.12.7"
  }
 },
 "nbformat": 4,
 "nbformat_minor": 2
}
