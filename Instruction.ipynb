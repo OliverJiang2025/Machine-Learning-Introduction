{
 "cells": [
  {
   "cell_type": "markdown",
   "metadata": {},
   "source": [
    "# Introduction and purpose of this document\n",
    "\n",
    "Since this is my first time managing a repo ALONE, I believe it is important to keep an instruction document to record how to do some basic operations via command line, how to write markdown in Jupyter Notebook as in this document, and most importantly, how to work like a professional ENGINEER."
   ]
  },
  {
   "cell_type": "markdown",
   "metadata": {},
   "source": [
    "This document contains the following sections:\n",
    "1. How to work with Git in VS Code\n",
    "2. Libraries required for Machine Learning\n",
    "3. How to do version control"
   ]
  },
  {
   "cell_type": "markdown",
   "metadata": {},
   "source": [
    "How to work with Git\n",
    "========\n",
    "To clone a repo from Github, click the tree-like button (third from up to bottom) at the left hand side of VS Code, click \"clone repository\" and paste the URL copied from Github. Creating a new directory in the laptop finishes the cloning.\n",
    "Before you create a new file (README.md), we should remember to run the following commands to make sure VS Code knows who we are.\n",
    "\n",
    "`git config --global user.email \"hi@example.com\"`  \n",
    "\n",
    "`git config --global user.nbame \"this is my name\"`\n",
    "\n",
    "\n",
    "\n",
    "\n",
    "\n",
    "\n",
    "\n"
   ]
  },
  {
   "cell_type": "markdown",
   "metadata": {},
   "source": [
    "After this, we should know how to commit changes and push it to the remote repo. Let's say a new file is created and you want it to be \"uploaded\" to the repo. The following steps should be done:\n",
    "1. Save it.\n",
    "2. Stage the change by `git add .`\n",
    "    1. This command stages all files at the same time\n",
    "    2. If only one file is to be staged, `git add file1.py`\n",
    "3. Commit by `git commit -m 'some description'` \n",
    "4. Push it by `git push`\n"
   ]
  },
  {
   "cell_type": "markdown",
   "metadata": {},
   "source": [
    "\n",
    "# Overview of CUDA, PyTorch, TensorFlow, Keras, and Scikit-learn\n",
    "\n",
    "## 1. CUDA (Compute Unified Device Architecture)\n",
    "- **Developed by**: NVIDIA\n",
    "- **Purpose**: A parallel computing platform and application programming interface (API) model that allows software developers to use GPUs (Graphics Processing Units) for general-purpose computing.\n",
    "- **Key Features**:\n",
    "  - Leverages NVIDIA GPUs to accelerate computing tasks.\n",
    "  - Enables parallel execution of tasks in a highly efficient manner.\n",
    "  - Popular for tasks such as deep learning, scientific computing, and simulations.\n",
    "  - CUDA C/C++ is used to write programs that run on NVIDIA GPUs.\n",
    "  - Supports libraries like cuDNN (for deep learning) and cuBLAS (for linear algebra).\n",
    "\n",
    "## 2. PyTorch\n",
    "- **Developed by**: Facebook's AI Research (FAIR)\n",
    "- **Purpose**: An open-source deep learning framework that provides flexibility and speed in building neural networks.\n",
    "- **Key Features**:\n",
    "  - Dynamic computation graph, which allows changes to the graph during execution (eager execution).\n",
    "  - Strong GPU support with CUDA for accelerated computations.\n",
    "  - Native support for tensor computations, autograd, and optimizers.\n",
    "  - Extensively used in academia and industry for research and production.\n",
    "\n",
    "## 3. TensorFlow\n",
    "- **Developed by**: Google Brain\n",
    "- **Purpose**: An open-source machine learning framework primarily used for training and inference of deep neural networks.\n",
    "- **Key Features**:\n",
    "  - Static computation graph (define-and-run model), though TensorFlow 2.x supports eager execution as well.\n",
    "  - Strong integration with GPUs and TPUs for efficient computation.\n",
    "  - Extensive deployment capabilities, including TensorFlow Lite for mobile and TensorFlow.js for running models in the browser.\n",
    "  - Supported by TensorFlow Hub for pre-trained models and TensorFlow Extended (TFX) for production pipelines.\n",
    "\n",
    "## 4. Keras\n",
    "- **Developed by**: François Chollet (now part of TensorFlow)\n",
    "- **Purpose**: A high-level neural networks API written in Python that simplifies building and training deep learning models.\n",
    "- **Key Features**:\n",
    "  - Provides a user-friendly, modular interface for building neural networks.\n",
    "  - Now integrated as `tf.keras` in TensorFlow, making it part of the TensorFlow ecosystem.\n",
    "  - Supports multiple backends (TensorFlow, Theano, CNTK) but is tightly integrated with TensorFlow in the latest versions.\n",
    "  - Allows rapid prototyping with simple model creation and training workflows.\n",
    "\n",
    "## 5. Scikit-learn (sklearn)\n",
    "- **Developed by**: The Scikit-learn community (originally from the Python community)\n",
    "- **Purpose**: A machine learning library for Python that provides simple and efficient tools for data mining and data analysis.\n",
    "- **Key Features**:\n",
    "  - Offers algorithms for classification, regression, clustering, dimensionality reduction, and model selection.\n",
    "  - Built on top of NumPy, SciPy, and matplotlib, making it highly compatible with the scientific Python ecosystem.\n",
    "  - Includes tools for model validation and evaluation, such as cross-validation and grid search.\n",
    "  - Ideal for traditional machine learning tasks (e.g., SVM, random forests, decision trees) rather than deep learning.\n",
    "\n",
    "## Summary of Key Differences\n",
    "| Framework | Type                  | Use Case                                           | Backend |\n",
    "|-----------|-----------------------|----------------------------------------------------|---------|\n",
    "| CUDA      | Parallel Computing     | Accelerating general-purpose computation with GPUs | NVIDIA  |\n",
    "| PyTorch   | Deep Learning Library  | Research and development of deep learning models   | Tensor, GPU, CUDA |\n",
    "| TensorFlow| Deep Learning Library  | Scalable machine learning and production models    | Tensor, GPU, TPU |\n",
    "| Keras     | High-level API         | Simplifying neural network model development      | TensorFlow (default), other backends |\n",
    "| Scikit-learn | Machine Learning Library | Classical machine learning tasks (e.g., regression, classification) | CPU, Scikit-backend |\n",
    "\n",
    "---\n",
    "\n",
    "## Resources\n",
    "- [CUDA Documentation](https://developer.nvidia.com/cuda-zone)\n",
    "- [PyTorch Documentation](https://pytorch.org/docs/stable/)\n",
    "- [TensorFlow Documentation](https://www.tensorflow.org/docs)\n",
    "- [Keras Documentation](https://keras.io/)\n",
    "- [Scikit-learn Documentation](https://scikit-learn.org/stable/)\n"
   ]
  },
  {
   "cell_type": "markdown",
   "metadata": {},
   "source": [
    "How to do version control\n",
    "=======\n",
    "This is an important topic since there are too many libraries required and sometimes they are not compatible to each other. This section operates with Anaconda Power Shell.\n",
    "\n",
    "To check current enviornments created by Anaconda, type `conda env list` in Anaconda PowerShell.\n",
    "\n",
    "Note that the default enviornment is `base`, sometimes we need to create new envs. Use `conda create --name myenv python=3.9`, in which `myenv` is the name for the new env and version of python is 3.9.\n",
    "\n",
    "To switch to `myenv`, do `conda activate myenv`.\n",
    "\n",
    "Once there is a set enviornment, we can do `conda env export > environment.yml` to save the enviornment in a yml file.\n",
    "\n",
    "To use it, do `conda env create -f environment.yml` in another device.\n",
    "\n"
   ]
  }
 ],
 "metadata": {
  "kernelspec": {
   "display_name": "base",
   "language": "python",
   "name": "python3"
  },
  "language_info": {
   "codemirror_mode": {
    "name": "ipython",
    "version": 3
   },
   "file_extension": ".py",
   "mimetype": "text/x-python",
   "name": "python",
   "nbconvert_exporter": "python",
   "pygments_lexer": "ipython3",
   "version": "3.12.7"
  }
 },
 "nbformat": 4,
 "nbformat_minor": 2
}
